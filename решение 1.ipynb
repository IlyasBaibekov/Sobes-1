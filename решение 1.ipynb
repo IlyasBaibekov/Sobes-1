{
 "cells": [
  {
   "cell_type": "code",
   "execution_count": 1,
   "id": "6413051b-1b83-4663-b646-f75a490eb74f",
   "metadata": {},
   "outputs": [],
   "source": [
    "def simply(ox,oy,p):\n",
    "    ox1 = [0]\n",
    "    oy1 = [0]\n",
    "    for i in range((max(ox)-min(ox))//p + 1):\n",
    "        ox1[i] = min(ox) + p*i//2\n",
    "        oy1[i] = sum(oy[i*p:(1+i)*p])\n",
    "        ox1.append(0)\n",
    "        oy1.append(0)\n",
    "    return(ox1,oy1)\n",
    "\n",
    "# мини функция для более аккуратных и красивых графиков (используется всего пару раз)"
   ]
  },
  {
   "cell_type": "code",
   "execution_count": 53,
   "id": "24461248-eca1-4e15-a117-667446ba9e26",
   "metadata": {},
   "outputs": [],
   "source": [
    "import pandas as pd\n",
    "import numpy as np\n",
    "import matplotlib.pyplot as plt\n",
    "from scipy.stats import linregress"
   ]
  },
  {
   "cell_type": "markdown",
   "id": "7c6a31c8-ee96-428c-9fe0-72f107ddbd50",
   "metadata": {},
   "source": [
    "Посмотрим на задание:\n",
    "1) Большинство создаваемых гильдий не активны\n",
    "2) Игроки, покупающие премиум товары, создают более активные гильдии, поскольку, инвестируя в игру, пользователь больше ценит вложенные усилия\n",
    "3) Если первое предположение верно, стоит ли существенно повысить стоимость создания гильдии, в том числе сделать это премиум товаром (за реальные деньги)"
   ]
  },
  {
   "cell_type": "code",
   "execution_count": 3,
   "id": "2f8b08da-0968-4bc4-92cf-f43aa806d153",
   "metadata": {},
   "outputs": [
    {
     "data": {
      "text/html": [
       "<div>\n",
       "<style scoped>\n",
       "    .dataframe tbody tr th:only-of-type {\n",
       "        vertical-align: middle;\n",
       "    }\n",
       "\n",
       "    .dataframe tbody tr th {\n",
       "        vertical-align: top;\n",
       "    }\n",
       "\n",
       "    .dataframe thead th {\n",
       "        text-align: right;\n",
       "    }\n",
       "</style>\n",
       "<table border=\"1\" class=\"dataframe\">\n",
       "  <thead>\n",
       "    <tr style=\"text-align: right;\">\n",
       "      <th></th>\n",
       "      <th>datetime</th>\n",
       "      <th>creator_character_id</th>\n",
       "      <th>guild_id</th>\n",
       "      <th>n_added_characters</th>\n",
       "      <th>n_removed_characters</th>\n",
       "      <th>n_talents</th>\n",
       "      <th>level</th>\n",
       "      <th>n_missions_completed</th>\n",
       "      <th>n_times_flag_turned_on</th>\n",
       "      <th>mean_place</th>\n",
       "      <th>mean_rating</th>\n",
       "      <th>n_seasons</th>\n",
       "    </tr>\n",
       "  </thead>\n",
       "  <tbody>\n",
       "    <tr>\n",
       "      <th>0</th>\n",
       "      <td>2022-12-12 23:13:42</td>\n",
       "      <td>15092203</td>\n",
       "      <td>78698</td>\n",
       "      <td>1</td>\n",
       "      <td>1.0</td>\n",
       "      <td>NaN</td>\n",
       "      <td>NaN</td>\n",
       "      <td>NaN</td>\n",
       "      <td>NaN</td>\n",
       "      <td>NaN</td>\n",
       "      <td>NaN</td>\n",
       "      <td>NaN</td>\n",
       "    </tr>\n",
       "    <tr>\n",
       "      <th>1</th>\n",
       "      <td>2022-12-12 22:29:09</td>\n",
       "      <td>15961764</td>\n",
       "      <td>78604</td>\n",
       "      <td>2</td>\n",
       "      <td>2.0</td>\n",
       "      <td>NaN</td>\n",
       "      <td>NaN</td>\n",
       "      <td>NaN</td>\n",
       "      <td>NaN</td>\n",
       "      <td>NaN</td>\n",
       "      <td>NaN</td>\n",
       "      <td>NaN</td>\n",
       "    </tr>\n",
       "    <tr>\n",
       "      <th>2</th>\n",
       "      <td>2022-12-12 21:01:53</td>\n",
       "      <td>16187808</td>\n",
       "      <td>78510</td>\n",
       "      <td>27</td>\n",
       "      <td>19.0</td>\n",
       "      <td>9.0</td>\n",
       "      <td>2.0</td>\n",
       "      <td>171.0</td>\n",
       "      <td>NaN</td>\n",
       "      <td>NaN</td>\n",
       "      <td>NaN</td>\n",
       "      <td>NaN</td>\n",
       "    </tr>\n",
       "  </tbody>\n",
       "</table>\n",
       "</div>"
      ],
      "text/plain": [
       "              datetime  creator_character_id  guild_id  n_added_characters  \\\n",
       "0  2022-12-12 23:13:42              15092203     78698                   1   \n",
       "1  2022-12-12 22:29:09              15961764     78604                   2   \n",
       "2  2022-12-12 21:01:53              16187808     78510                  27   \n",
       "\n",
       "   n_removed_characters  n_talents  level  n_missions_completed  \\\n",
       "0                   1.0        NaN    NaN                   NaN   \n",
       "1                   2.0        NaN    NaN                   NaN   \n",
       "2                  19.0        9.0    2.0                 171.0   \n",
       "\n",
       "   n_times_flag_turned_on  mean_place  mean_rating  n_seasons  \n",
       "0                     NaN         NaN          NaN        NaN  \n",
       "1                     NaN         NaN          NaN        NaN  \n",
       "2                     NaN         NaN          NaN        NaN  "
      ]
     },
     "execution_count": 3,
     "metadata": {},
     "output_type": "execute_result"
    }
   ],
   "source": [
    "df1 = pd.read_csv('guild_data.csv')\n",
    "df1.head(3)"
   ]
  },
  {
   "cell_type": "markdown",
   "id": "4193741a-2799-427b-af3b-98e5b1ef1d01",
   "metadata": {},
   "source": [
    "Есть: дата создания гильдии, айди персонажа, создавшего гильдию, айдишник гильдии, количество приглашенных, количество исключенных, количество талантов, уровень, количество выполненых миссий, количество участий в войне гильдий, место в войне гильдий, рейтинг в войне гильдий, количество сезонов войн."
   ]
  },
  {
   "cell_type": "code",
   "execution_count": 4,
   "id": "8e9660dd-ecef-4b5d-8ee7-045602748ade",
   "metadata": {},
   "outputs": [
    {
     "data": {
      "text/html": [
       "<div>\n",
       "<style scoped>\n",
       "    .dataframe tbody tr th:only-of-type {\n",
       "        vertical-align: middle;\n",
       "    }\n",
       "\n",
       "    .dataframe tbody tr th {\n",
       "        vertical-align: top;\n",
       "    }\n",
       "\n",
       "    .dataframe thead th {\n",
       "        text-align: right;\n",
       "    }\n",
       "</style>\n",
       "<table border=\"1\" class=\"dataframe\">\n",
       "  <thead>\n",
       "    <tr style=\"text-align: right;\">\n",
       "      <th></th>\n",
       "      <th>revenue</th>\n",
       "      <th>character_id</th>\n",
       "    </tr>\n",
       "  </thead>\n",
       "  <tbody>\n",
       "    <tr>\n",
       "      <th>0</th>\n",
       "      <td>102.897877</td>\n",
       "      <td>13642352</td>\n",
       "    </tr>\n",
       "    <tr>\n",
       "      <th>1</th>\n",
       "      <td>105.839569</td>\n",
       "      <td>29703528</td>\n",
       "    </tr>\n",
       "    <tr>\n",
       "      <th>2</th>\n",
       "      <td>50.040612</td>\n",
       "      <td>28081545</td>\n",
       "    </tr>\n",
       "    <tr>\n",
       "      <th>3</th>\n",
       "      <td>18.044814</td>\n",
       "      <td>12663426</td>\n",
       "    </tr>\n",
       "    <tr>\n",
       "      <th>4</th>\n",
       "      <td>5.913989</td>\n",
       "      <td>16071934</td>\n",
       "    </tr>\n",
       "  </tbody>\n",
       "</table>\n",
       "</div>"
      ],
      "text/plain": [
       "      revenue  character_id\n",
       "0  102.897877      13642352\n",
       "1  105.839569      29703528\n",
       "2   50.040612      28081545\n",
       "3   18.044814      12663426\n",
       "4    5.913989      16071934"
      ]
     },
     "execution_count": 4,
     "metadata": {},
     "output_type": "execute_result"
    }
   ],
   "source": [
    "df2 = pd.read_csv('payers.csv')\n",
    "df2.head(5)"
   ]
  },
  {
   "cell_type": "markdown",
   "id": "7ca03828-367d-459a-849b-1181640cad9f",
   "metadata": {},
   "source": [
    "Тут меньше данных, сумма энергии, айдишник гильдии, тип источника энергии"
   ]
  },
  {
   "cell_type": "code",
   "execution_count": 5,
   "id": "15445714-8656-4d8e-940c-c96ee71f61ab",
   "metadata": {},
   "outputs": [
    {
     "data": {
      "text/plain": [
       "datetime                    0\n",
       "creator_character_id        0\n",
       "guild_id                    0\n",
       "n_added_characters          0\n",
       "n_removed_characters       99\n",
       "n_talents                 293\n",
       "level                     393\n",
       "n_missions_completed       70\n",
       "n_times_flag_turned_on    884\n",
       "mean_place                906\n",
       "mean_rating               906\n",
       "n_seasons                 906\n",
       "dtype: int64"
      ]
     },
     "execution_count": 5,
     "metadata": {},
     "output_type": "execute_result"
    }
   ],
   "source": [
    "df1.isnull().sum()"
   ]
  },
  {
   "cell_type": "code",
   "execution_count": 6,
   "id": "5f4797ea-e0f0-4a6e-ad09-dea40cf1e552",
   "metadata": {},
   "outputs": [
    {
     "data": {
      "text/plain": [
       "datetime                  965\n",
       "creator_character_id      965\n",
       "guild_id                  965\n",
       "n_added_characters        965\n",
       "n_removed_characters      866\n",
       "n_talents                 672\n",
       "level                     572\n",
       "n_missions_completed      895\n",
       "n_times_flag_turned_on     81\n",
       "mean_place                 59\n",
       "mean_rating                59\n",
       "n_seasons                  59\n",
       "dtype: int64"
      ]
     },
     "execution_count": 6,
     "metadata": {},
     "output_type": "execute_result"
    }
   ],
   "source": [
    "df1.count()"
   ]
  },
  {
   "cell_type": "markdown",
   "id": "d4c5cdbe-82fa-4ad9-9fc8-5a57e0ac4866",
   "metadata": {},
   "source": [
    "Подавляющее большинство гильдий не участвовало ни в одном сезоне, что уже может свидетельствовать о несильной активности в гильдиях\n",
    "\n",
    "Проведем более тонкий анализ. Посмотрим, какое количество людей обычно постоит в гильдиях.\n"
   ]
  },
  {
   "cell_type": "code",
   "execution_count": 7,
   "id": "544aed3c-1fb5-4c3e-9b01-f107cf6745a9",
   "metadata": {},
   "outputs": [],
   "source": [
    "df1['Количество'] = df1['n_added_characters'] - df1['n_removed_characters']"
   ]
  },
  {
   "cell_type": "code",
   "execution_count": 10,
   "id": "40c2b4b3-3186-465a-8fc7-978b428b3de9",
   "metadata": {},
   "outputs": [
    {
     "name": "stdout",
     "output_type": "stream",
     "text": [
      "[58 47 49 46 46 68 73 44 46 35 33 26 19 11  5  8  6  7  4  6  4  4  2]\n",
      "[ 1.  2.  3.  4.  5.  6.  7.  8.  9. 10. 11. 12. 13. 14. 15. 16. 17. 18.\n",
      " 19. 20. 21. 22. 23.]\n"
     ]
    }
   ],
   "source": [
    "import sklearn\n",
    "from sklearn.model_selection import train_test_split\n",
    "from sklearn.model_selection import cross_val_score\n",
    "from sklearn.svm import SVC\n",
    "from sklearn.preprocessing import OneHotEncoder, MinMaxScaler\n",
    "a = (df1.groupby('Количество').size().to_numpy())[1:]\n",
    "b = (df1.groupby('Количество').size().index.to_numpy())[1:]\n",
    "print(a)\n",
    "print(b)"
   ]
  },
  {
   "cell_type": "code",
   "execution_count": 11,
   "id": "483ac4c9-fe13-4b45-aa9b-5b3170b420dd",
   "metadata": {},
   "outputs": [
    {
     "data": {
      "text/plain": [
       "<BarContainer object of 23 artists>"
      ]
     },
     "execution_count": 11,
     "metadata": {},
     "output_type": "execute_result"
    },
    {
     "data": {
      "image/png": "[encoded data removed]",
      "text/plain": [
       "<Figure size 640x480 with 1 Axes>"
      ]
     },
     "metadata": {},
     "output_type": "display_data"
    }
   ],
   "source": [
    "plt.bar(b, a)"
   ]
  },
  {
   "cell_type": "code",
   "execution_count": 12,
   "id": "c6c961c1-6eac-4a70-aae0-b2b7b79ab6dd",
   "metadata": {},
   "outputs": [
    {
     "name": "stdout",
     "output_type": "stream",
     "text": [
      "5.391454965357967\n",
      "7.216383307573416\n"
     ]
    }
   ],
   "source": [
    "#СРЕДНЕЕ ЗНАЧЕНИЕ ИГРОКОВ В ГИЛЬДИЯХ\n",
    "print(df1['Количество'].mean())\n",
    "print(df1[df1['Количество'] != 0]['Количество'].mean())"
   ]
  },
  {
   "cell_type": "markdown",
   "id": "30cdf2d9-1b73-4e72-aeca-31fb8c06c070",
   "metadata": {},
   "source": [
    "Можно сделать вывод: зачастую в гильдиях состоит от 3 до 9 человек. Гильдии из 2 человек и меньше тоже существуют, но это, вероятно уже нельзя назвать гильдиями. Гильдии из 10 и более человек тоже создаются, однако, вероятно, из-за недавности и нераспространенности гильдии еще не успели разрастись. "
   ]
  },
  {
   "cell_type": "code",
   "execution_count": 13,
   "id": "b98b0a9c-fa1b-4802-a9d7-945fe7a2d8ed",
   "metadata": {},
   "outputs": [
    {
     "name": "stdout",
     "output_type": "stream",
     "text": [
      "137.64581005586592\n"
     ]
    },
    {
     "data": {
      "image/png": "[encoded data removed]",
      "text/plain": [
       "<Figure size 640x480 with 1 Axes>"
      ]
     },
     "metadata": {},
     "output_type": "display_data"
    }
   ],
   "source": [
    "a = (df1.groupby('n_missions_completed').size().to_numpy())[:]\n",
    "b = (df1.groupby('n_missions_completed').size().index.to_numpy())[:]\n",
    "plt.bar(b, a)\n",
    "print(df1['n_missions_completed'].mean())"
   ]
  },
  {
   "cell_type": "markdown",
   "id": "407039cc-07ef-4a5d-a272-491c02c25854",
   "metadata": {},
   "source": [
    "Данный график показывает, что в игре существует несколько типов гильдий - начинающие или развалившиеся (от 0 до 50 выполненных миссий суммарно)\n",
    "Гильдии не так давно пришедших - в районе 100 выполненных миссий. И гильдии давних игроков - от 150 до 250 выполненных миссий. \n",
    "\n",
    "Такое разделение вполне естественно, ибо начинающие игроки собираются отдельно от профессионалов.\n",
    "\n",
    "Возможно игрокам нравятся одиночные миссии, но не нравятся коллективные ивенты. Проверим это далее."
   ]
  },
  {
   "cell_type": "code",
   "execution_count": 14,
   "id": "96652ff0-2cdd-45e7-bae0-e2ce3736a636",
   "metadata": {},
   "outputs": [
    {
     "name": "stderr",
     "output_type": "stream",
     "text": [
      "C:\\Users\\ilyas\\AppData\\Local\\Temp\\ipykernel_4188\\654178798.py:1: FutureWarning: A value is trying to be set on a copy of a DataFrame or Series through chained assignment using an inplace method.\n",
      "The behavior will change in pandas 3.0. This inplace method will never work because the intermediate object on which we are setting values always behaves as a copy.\n",
      "\n",
      "For example, when doing 'df[col].method(value, inplace=True)', try using 'df.method({col: value}, inplace=True)' or df[col] = df[col].method(value) instead, to perform the operation inplace on the original object.\n",
      "\n",
      "\n",
      "  df1['n_talents'].fillna(0, inplace=True)\n"
     ]
    }
   ],
   "source": [
    "df1['n_talents'].fillna(0, inplace=True)"
   ]
  },
  {
   "cell_type": "code",
   "execution_count": 15,
   "id": "947e46d2-0002-431c-8b1e-1ad916ebd512",
   "metadata": {},
   "outputs": [
    {
     "name": "stdout",
     "output_type": "stream",
     "text": [
      "10.739896373056995\n"
     ]
    },
    {
     "data": {
      "image/png": "[encoded data removed]",
      "text/plain": [
       "<Figure size 640x480 with 1 Axes>"
      ]
     },
     "metadata": {},
     "output_type": "display_data"
    }
   ],
   "source": [
    "a = (df1.groupby('n_talents').size().to_numpy())[:]\n",
    "b = (df1.groupby('n_talents').size().index.to_numpy())[:]\n",
    "plt.bar(b, a)\n",
    "print(df1['n_talents'].mean())"
   ]
  },
  {
   "cell_type": "markdown",
   "id": "ba16992f-1b2f-4bdb-a5f0-5f1de83f27bc",
   "metadata": {},
   "source": [
    "По предыдущим данным можно было сказать, что игроки весьма активны в игре. Однако, при проверке параметра, который отвечает за активность игроков в гильдиях замечается негативный тренд. Подавляющее большинство гильдий не набрали и двадцати талантов, что весьма скудно учитывая максимально возможные значения.\n",
    "\n",
    "Более того - подавляющее большинство даже не открыло таланты. Если вырезать их, то график все равно лучше не станет."
   ]
  },
  {
   "cell_type": "code",
   "execution_count": 16,
   "id": "3c58077a-0867-42dc-8230-9ddb8bb18290",
   "metadata": {},
   "outputs": [
    {
     "name": "stdout",
     "output_type": "stream",
     "text": [
      "10.739896373056995\n"
     ]
    },
    {
     "data": {
      "image/png": "[encoded data removed]",
      "text/plain": [
       "<Figure size 640x480 with 1 Axes>"
      ]
     },
     "metadata": {},
     "output_type": "display_data"
    }
   ],
   "source": [
    "a = (df1.groupby('n_talents').size().to_numpy())[1:]\n",
    "b = (df1.groupby('n_talents').size().index.to_numpy())[1:]\n",
    "plt.bar(b, a)\n",
    "print(df1['n_talents'].mean())\n",
    "# ситуация все еще плачевная"
   ]
  },
  {
   "cell_type": "markdown",
   "id": "9e2bf03b-1c0c-4446-916b-aa62315d0992",
   "metadata": {},
   "source": [
    "Посмотри на данные по уровням, без учета начального уровня и с учетом."
   ]
  },
  {
   "cell_type": "code",
   "execution_count": 17,
   "id": "76a840a6-9317-4f43-99f3-ecccb4ae1344",
   "metadata": {},
   "outputs": [
    {
     "name": "stdout",
     "output_type": "stream",
     "text": [
      "3.097902097902098\n"
     ]
    },
    {
     "data": {
      "image/png": "[encoded data removed]",
      "text/plain": [
       "<Figure size 640x480 with 1 Axes>"
      ]
     },
     "metadata": {},
     "output_type": "display_data"
    }
   ],
   "source": [
    "a = (df1.groupby('level').size().to_numpy())[:]\n",
    "b = (df1.groupby('level').size().index.to_numpy())[:]\n",
    "plt.bar(b, a)\n",
    "print(df1['level'].mean())"
   ]
  },
  {
   "cell_type": "code",
   "execution_count": 18,
   "id": "2d366ce1-2209-4088-a88f-bef559e73333",
   "metadata": {},
   "outputs": [
    {
     "name": "stderr",
     "output_type": "stream",
     "text": [
      "C:\\Users\\ilyas\\AppData\\Local\\Temp\\ipykernel_4188\\515546791.py:1: FutureWarning: A value is trying to be set on a copy of a DataFrame or Series through chained assignment using an inplace method.\n",
      "The behavior will change in pandas 3.0. This inplace method will never work because the intermediate object on which we are setting values always behaves as a copy.\n",
      "\n",
      "For example, when doing 'df[col].method(value, inplace=True)', try using 'df.method({col: value}, inplace=True)' or df[col] = df[col].method(value) instead, to perform the operation inplace on the original object.\n",
      "\n",
      "\n",
      "  df1['level'].fillna(1, inplace=True)\n"
     ]
    }
   ],
   "source": [
    "df1['level'].fillna(1, inplace=True)"
   ]
  },
  {
   "cell_type": "code",
   "execution_count": 19,
   "id": "8241103c-631c-4b41-9e33-62a522c948de",
   "metadata": {},
   "outputs": [
    {
     "name": "stdout",
     "output_type": "stream",
     "text": [
      "2.243523316062176\n"
     ]
    },
    {
     "data": {
      "image/png": "[encoded data removed]",
      "text/plain": [
       "<Figure size 640x480 with 1 Axes>"
      ]
     },
     "metadata": {},
     "output_type": "display_data"
    }
   ],
   "source": [
    "a = (df1.groupby('level').size().to_numpy())[:]\n",
    "b = (df1.groupby('level').size().index.to_numpy())[:]\n",
    "plt.bar(b, a)\n",
    "print(df1['level'].mean())"
   ]
  },
  {
   "cell_type": "markdown",
   "id": "0d30636d-c3a5-42ac-9fdc-487cc3b2546a",
   "metadata": {},
   "source": [
    "Неожиданный результат. Или уровни получить очень легко, или гильдии нравятся людям."
   ]
  },
  {
   "cell_type": "code",
   "execution_count": 20,
   "id": "9cc644c3-de56-4652-8e93-b8e978262c40",
   "metadata": {},
   "outputs": [
    {
     "name": "stderr",
     "output_type": "stream",
     "text": [
      "C:\\Users\\ilyas\\AppData\\Local\\Temp\\ipykernel_4188\\3991787954.py:1: FutureWarning: A value is trying to be set on a copy of a DataFrame or Series through chained assignment using an inplace method.\n",
      "The behavior will change in pandas 3.0. This inplace method will never work because the intermediate object on which we are setting values always behaves as a copy.\n",
      "\n",
      "For example, when doing 'df[col].method(value, inplace=True)', try using 'df.method({col: value}, inplace=True)' or df[col] = df[col].method(value) instead, to perform the operation inplace on the original object.\n",
      "\n",
      "\n",
      "  df1['n_times_flag_turned_on'].fillna(0, inplace=True)\n"
     ]
    },
    {
     "data": {
      "text/plain": [
       "<BarContainer object of 8 artists>"
      ]
     },
     "execution_count": 20,
     "metadata": {},
     "output_type": "execute_result"
    },
    {
     "data": {
      "image/png": "[encoded data removed]",
      "text/plain": [
       "<Figure size 640x480 with 1 Axes>"
      ]
     },
     "metadata": {},
     "output_type": "display_data"
    }
   ],
   "source": [
    "df1['n_times_flag_turned_on'].fillna(0, inplace=True)\n",
    "a = (df1.groupby('n_times_flag_turned_on').size().to_numpy())[:]\n",
    "b = (df1.groupby('n_times_flag_turned_on').size().index.to_numpy())[:]\n",
    "plt.bar(b, a)"
   ]
  },
  {
   "cell_type": "code",
   "execution_count": 21,
   "id": "91882ac3-2b3c-4b3a-b8e1-29577ccd779f",
   "metadata": {},
   "outputs": [
    {
     "name": "stdout",
     "output_type": "stream",
     "text": [
      "0.0922279792746114\n"
     ]
    },
    {
     "name": "stderr",
     "output_type": "stream",
     "text": [
      "C:\\Users\\ilyas\\AppData\\Local\\Temp\\ipykernel_4188\\3248167959.py:1: FutureWarning: A value is trying to be set on a copy of a DataFrame or Series through chained assignment using an inplace method.\n",
      "The behavior will change in pandas 3.0. This inplace method will never work because the intermediate object on which we are setting values always behaves as a copy.\n",
      "\n",
      "For example, when doing 'df[col].method(value, inplace=True)', try using 'df.method({col: value}, inplace=True)' or df[col] = df[col].method(value) instead, to perform the operation inplace on the original object.\n",
      "\n",
      "\n",
      "  df1['n_seasons'].fillna(0, inplace=True)\n"
     ]
    },
    {
     "data": {
      "image/png": "[encoded data removed]",
      "text/plain": [
       "<Figure size 640x480 with 1 Axes>"
      ]
     },
     "metadata": {},
     "output_type": "display_data"
    }
   ],
   "source": [
    "df1['n_seasons'].fillna(0, inplace=True)\n",
    "a = (df1.groupby('n_seasons').size().to_numpy())[:]\n",
    "b = (df1.groupby('n_seasons').size().index.to_numpy())[:]\n",
    "plt.bar(b, a)\n",
    "print(df1['n_seasons'].mean())"
   ]
  },
  {
   "cell_type": "code",
   "execution_count": 22,
   "id": "0adbbad2-e6fd-4dd8-b9d1-b7c7925aba3c",
   "metadata": {},
   "outputs": [
    {
     "data": {
      "text/plain": [
       "<BarContainer object of 5 artists>"
      ]
     },
     "execution_count": 22,
     "metadata": {},
     "output_type": "execute_result"
    },
    {
     "data": {
      "image/png": "[encoded data removed]",
      "text/plain": [
       "<Figure size 640x480 with 1 Axes>"
      ]
     },
     "metadata": {},
     "output_type": "display_data"
    }
   ],
   "source": [
    "a = (df1.groupby('n_seasons').size().to_numpy())[1:]\n",
    "b = (df1.groupby('n_seasons').size().index.to_numpy())[1:]\n",
    "plt.bar(b, a)"
   ]
  },
  {
   "cell_type": "markdown",
   "id": "dada18ab-6c2f-4662-916b-ad922d33e625",
   "metadata": {},
   "source": [
    "Итого: вероятно пользователям нравятся индивидеальные плюшки, которые дают гильдиии, но им не нравится все, что связано с войнами кланов. \n",
    "Поэтому, уровень качается, а вот статистика клановых войн оставляет желать лучшего\n",
    "\n",
    "Соответственно, вывод следующий: игроки использую гильдии, существуют разные типы гильдий, но, с освновной функцией гильдии не справляются. Игроки создают их исключительно для личных выгод. Клановые войны не актуальны, они не пользуются большим спросом, за исключением некоторых пользователей."
   ]
  },
  {
   "cell_type": "markdown",
   "id": "9352c3a3-d9dd-4f4c-b666-d14fd4019deb",
   "metadata": {},
   "source": [
    "В качестве метрики выберем среднее значение пройденных сезонов и число талантов. "
   ]
  },
  {
   "cell_type": "code",
   "execution_count": 23,
   "id": "59687688-022f-4faf-bc30-279db5b6c285",
   "metadata": {},
   "outputs": [
    {
     "data": {
      "text/html": [
       "<div>\n",
       "<style scoped>\n",
       "    .dataframe tbody tr th:only-of-type {\n",
       "        vertical-align: middle;\n",
       "    }\n",
       "\n",
       "    .dataframe tbody tr th {\n",
       "        vertical-align: top;\n",
       "    }\n",
       "\n",
       "    .dataframe thead th {\n",
       "        text-align: right;\n",
       "    }\n",
       "</style>\n",
       "<table border=\"1\" class=\"dataframe\">\n",
       "  <thead>\n",
       "    <tr style=\"text-align: right;\">\n",
       "      <th></th>\n",
       "      <th>revenue</th>\n",
       "      <th>character_id</th>\n",
       "    </tr>\n",
       "  </thead>\n",
       "  <tbody>\n",
       "    <tr>\n",
       "      <th>0</th>\n",
       "      <td>102.897877</td>\n",
       "      <td>13642352</td>\n",
       "    </tr>\n",
       "    <tr>\n",
       "      <th>1</th>\n",
       "      <td>105.839569</td>\n",
       "      <td>29703528</td>\n",
       "    </tr>\n",
       "    <tr>\n",
       "      <th>2</th>\n",
       "      <td>50.040612</td>\n",
       "      <td>28081545</td>\n",
       "    </tr>\n",
       "    <tr>\n",
       "      <th>3</th>\n",
       "      <td>18.044814</td>\n",
       "      <td>12663426</td>\n",
       "    </tr>\n",
       "    <tr>\n",
       "      <th>4</th>\n",
       "      <td>5.913989</td>\n",
       "      <td>16071934</td>\n",
       "    </tr>\n",
       "  </tbody>\n",
       "</table>\n",
       "</div>"
      ],
      "text/plain": [
       "      revenue  character_id\n",
       "0  102.897877      13642352\n",
       "1  105.839569      29703528\n",
       "2   50.040612      28081545\n",
       "3   18.044814      12663426\n",
       "4    5.913989      16071934"
      ]
     },
     "execution_count": 23,
     "metadata": {},
     "output_type": "execute_result"
    }
   ],
   "source": [
    "df2 = pd.read_csv('payers.csv')\n",
    "df2.head(5)"
   ]
  },
  {
   "cell_type": "code",
   "execution_count": 24,
   "id": "51c89688-6c6a-42fe-9b61-07b50e036301",
   "metadata": {},
   "outputs": [
    {
     "data": {
      "text/html": [
       "<div>\n",
       "<style scoped>\n",
       "    .dataframe tbody tr th:only-of-type {\n",
       "        vertical-align: middle;\n",
       "    }\n",
       "\n",
       "    .dataframe tbody tr th {\n",
       "        vertical-align: top;\n",
       "    }\n",
       "\n",
       "    .dataframe thead th {\n",
       "        text-align: right;\n",
       "    }\n",
       "</style>\n",
       "<table border=\"1\" class=\"dataframe\">\n",
       "  <thead>\n",
       "    <tr style=\"text-align: right;\">\n",
       "      <th></th>\n",
       "      <th>energy_delta</th>\n",
       "      <th>context_type</th>\n",
       "      <th>guild_id</th>\n",
       "    </tr>\n",
       "  </thead>\n",
       "  <tbody>\n",
       "    <tr>\n",
       "      <th>0</th>\n",
       "      <td>1148686</td>\n",
       "      <td>GuildMissionRewardContext</td>\n",
       "      <td>90166</td>\n",
       "    </tr>\n",
       "    <tr>\n",
       "      <th>1</th>\n",
       "      <td>1018116</td>\n",
       "      <td>GuildMissionRewardContext</td>\n",
       "      <td>81283</td>\n",
       "    </tr>\n",
       "    <tr>\n",
       "      <th>2</th>\n",
       "      <td>907440</td>\n",
       "      <td>GuildMissionRewardContext</td>\n",
       "      <td>79262</td>\n",
       "    </tr>\n",
       "    <tr>\n",
       "      <th>3</th>\n",
       "      <td>889109</td>\n",
       "      <td>GuildMissionRewardContext</td>\n",
       "      <td>84667</td>\n",
       "    </tr>\n",
       "    <tr>\n",
       "      <th>4</th>\n",
       "      <td>858954</td>\n",
       "      <td>GuildMissionRewardContext</td>\n",
       "      <td>77241</td>\n",
       "    </tr>\n",
       "  </tbody>\n",
       "</table>\n",
       "</div>"
      ],
      "text/plain": [
       "   energy_delta               context_type  guild_id\n",
       "0       1148686  GuildMissionRewardContext     90166\n",
       "1       1018116  GuildMissionRewardContext     81283\n",
       "2        907440  GuildMissionRewardContext     79262\n",
       "3        889109  GuildMissionRewardContext     84667\n",
       "4        858954  GuildMissionRewardContext     77241"
      ]
     },
     "execution_count": 24,
     "metadata": {},
     "output_type": "execute_result"
    }
   ],
   "source": [
    "df3 = pd.read_csv('energy.csv')\n",
    "df3.head(5)"
   ]
  },
  {
   "cell_type": "code",
   "execution_count": 25,
   "id": "d55735a4-8e7d-42aa-b34a-12cc63e48bb9",
   "metadata": {},
   "outputs": [],
   "source": [
    "merged_df1_df2 = pd.merge(df1, df2, left_on='creator_character_id', right_on='character_id')\n",
    "df = pd.merge(merged_df1_df2, df3, on='guild_id')"
   ]
  },
  {
   "cell_type": "code",
   "execution_count": 26,
   "id": "838d14b1-63ad-482d-9bc6-18da2781c9f7",
   "metadata": {},
   "outputs": [
    {
     "data": {
      "text/html": [
       "<div>\n",
       "<style scoped>\n",
       "    .dataframe tbody tr th:only-of-type {\n",
       "        vertical-align: middle;\n",
       "    }\n",
       "\n",
       "    .dataframe tbody tr th {\n",
       "        vertical-align: top;\n",
       "    }\n",
       "\n",
       "    .dataframe thead th {\n",
       "        text-align: right;\n",
       "    }\n",
       "</style>\n",
       "<table border=\"1\" class=\"dataframe\">\n",
       "  <thead>\n",
       "    <tr style=\"text-align: right;\">\n",
       "      <th></th>\n",
       "      <th>datetime</th>\n",
       "      <th>creator_character_id</th>\n",
       "      <th>guild_id</th>\n",
       "      <th>n_added_characters</th>\n",
       "      <th>n_removed_characters</th>\n",
       "      <th>n_talents</th>\n",
       "      <th>level</th>\n",
       "      <th>n_missions_completed</th>\n",
       "      <th>n_times_flag_turned_on</th>\n",
       "      <th>mean_place</th>\n",
       "      <th>mean_rating</th>\n",
       "      <th>n_seasons</th>\n",
       "      <th>Количество</th>\n",
       "      <th>revenue</th>\n",
       "      <th>character_id</th>\n",
       "      <th>energy_delta</th>\n",
       "      <th>context_type</th>\n",
       "    </tr>\n",
       "  </thead>\n",
       "  <tbody>\n",
       "    <tr>\n",
       "      <th>0</th>\n",
       "      <td>2022-12-12 21:01:53</td>\n",
       "      <td>16187808</td>\n",
       "      <td>78510</td>\n",
       "      <td>27</td>\n",
       "      <td>19.0</td>\n",
       "      <td>9.0</td>\n",
       "      <td>2.0</td>\n",
       "      <td>171.0</td>\n",
       "      <td>0.0</td>\n",
       "      <td>NaN</td>\n",
       "      <td>NaN</td>\n",
       "      <td>0.0</td>\n",
       "      <td>8.0</td>\n",
       "      <td>76.940000</td>\n",
       "      <td>16187808</td>\n",
       "      <td>24680</td>\n",
       "      <td>GuildMissionRewardContext</td>\n",
       "    </tr>\n",
       "    <tr>\n",
       "      <th>1</th>\n",
       "      <td>2022-12-12 15:29:23</td>\n",
       "      <td>25567139</td>\n",
       "      <td>78228</td>\n",
       "      <td>11</td>\n",
       "      <td>11.0</td>\n",
       "      <td>0.0</td>\n",
       "      <td>1.0</td>\n",
       "      <td>8.0</td>\n",
       "      <td>0.0</td>\n",
       "      <td>NaN</td>\n",
       "      <td>NaN</td>\n",
       "      <td>0.0</td>\n",
       "      <td>0.0</td>\n",
       "      <td>34.960000</td>\n",
       "      <td>25567139</td>\n",
       "      <td>6440</td>\n",
       "      <td>GuildMissionRewardContext</td>\n",
       "    </tr>\n",
       "    <tr>\n",
       "      <th>2</th>\n",
       "      <td>2022-12-12 20:28:14</td>\n",
       "      <td>25629676</td>\n",
       "      <td>78463</td>\n",
       "      <td>53</td>\n",
       "      <td>46.0</td>\n",
       "      <td>25.0</td>\n",
       "      <td>4.0</td>\n",
       "      <td>226.0</td>\n",
       "      <td>3.0</td>\n",
       "      <td>20.0</td>\n",
       "      <td>478.0</td>\n",
       "      <td>1.0</td>\n",
       "      <td>7.0</td>\n",
       "      <td>15.116059</td>\n",
       "      <td>25629676</td>\n",
       "      <td>180000</td>\n",
       "      <td>GuildMissionRewardContext</td>\n",
       "    </tr>\n",
       "  </tbody>\n",
       "</table>\n",
       "</div>"
      ],
      "text/plain": [
       "              datetime  creator_character_id  guild_id  n_added_characters  \\\n",
       "0  2022-12-12 21:01:53              16187808     78510                  27   \n",
       "1  2022-12-12 15:29:23              25567139     78228                  11   \n",
       "2  2022-12-12 20:28:14              25629676     78463                  53   \n",
       "\n",
       "   n_removed_characters  n_talents  level  n_missions_completed  \\\n",
       "0                  19.0        9.0    2.0                 171.0   \n",
       "1                  11.0        0.0    1.0                   8.0   \n",
       "2                  46.0       25.0    4.0                 226.0   \n",
       "\n",
       "   n_times_flag_turned_on  mean_place  mean_rating  n_seasons  Количество  \\\n",
       "0                     0.0         NaN          NaN        0.0         8.0   \n",
       "1                     0.0         NaN          NaN        0.0         0.0   \n",
       "2                     3.0        20.0        478.0        1.0         7.0   \n",
       "\n",
       "     revenue  character_id  energy_delta               context_type  \n",
       "0  76.940000      16187808         24680  GuildMissionRewardContext  \n",
       "1  34.960000      25567139          6440  GuildMissionRewardContext  \n",
       "2  15.116059      25629676        180000  GuildMissionRewardContext  "
      ]
     },
     "execution_count": 26,
     "metadata": {},
     "output_type": "execute_result"
    }
   ],
   "source": [
    "df.head(3)"
   ]
  },
  {
   "cell_type": "code",
   "execution_count": 27,
   "id": "0adc7ad6-9123-427e-9932-30fbf4700b55",
   "metadata": {},
   "outputs": [
    {
     "data": {
      "text/plain": [
       "array(['GuildMissionRewardContext', 'CompleteGuildRaidMatchContext',\n",
       "       'ConvertKnowledgeToGuildEnergyContext'], dtype=object)"
      ]
     },
     "execution_count": 27,
     "metadata": {},
     "output_type": "execute_result"
    }
   ],
   "source": [
    "df['context_type'].unique()"
   ]
  },
  {
   "cell_type": "code",
   "execution_count": 28,
   "id": "709b72b7-5a59-43dd-857f-e816a7aaf76c",
   "metadata": {},
   "outputs": [
    {
     "data": {
      "text/plain": [
       "293"
      ]
     },
     "execution_count": 28,
     "metadata": {},
     "output_type": "execute_result"
    }
   ],
   "source": [
    "df[df['context_type'] == 'GuildMissionRewardContext'].shape[0]"
   ]
  },
  {
   "cell_type": "markdown",
   "id": "07264914-a25b-4164-9f0e-0139879e23ed",
   "metadata": {},
   "source": [
    "Какой источник энергиии пользуется наибольшей популярностью? \n",
    "\n",
    "Посчитать, какой процент пользоваталей хотя бы что-то донатил. (А вдруг никто почти ничего не донатит)\n",
    "\n",
    "Как деньги влияют на тип источника энергии (посчитать проценты среди донативших и недонативших)\n",
    "\n",
    "Посмотрим влияние денег на заинтересованность клановыми войнами, а также уровнем и количеством участников на ТРЕХ и более КАТЕГОРИЯХ (разные типы получения энергии)\n",
    "\n",
    "Посмотрим еще в целом влияние денег на людей. Насколько сильно повышается средний показатель сезонов войн, а также каково среднее число талантов (если больше 15, то деньги влияют существенно)"
   ]
  },
  {
   "cell_type": "code",
   "execution_count": 29,
   "id": "81b979c0-477d-48a8-8dff-80c27508cefc",
   "metadata": {},
   "outputs": [
    {
     "data": {
      "text/plain": [
       "29"
      ]
     },
     "execution_count": 29,
     "metadata": {},
     "output_type": "execute_result"
    }
   ],
   "source": [
    "df[df['context_type'] == 'CompleteGuildRaidMatchContext'].shape[0]"
   ]
  },
  {
   "cell_type": "code",
   "execution_count": 30,
   "id": "93ddbb95-358b-4228-97ab-2de2f7fd33de",
   "metadata": {},
   "outputs": [
    {
     "data": {
      "text/plain": [
       "36"
      ]
     },
     "execution_count": 30,
     "metadata": {},
     "output_type": "execute_result"
    }
   ],
   "source": [
    "df[df['context_type'] == 'ConvertKnowledgeToGuildEnergyContext'].shape[0]"
   ]
  },
  {
   "cell_type": "code",
   "execution_count": 31,
   "id": "31319371-9152-48dc-9eb4-b4325b8fb6cd",
   "metadata": {},
   "outputs": [
    {
     "data": {
      "text/plain": [
       "<BarContainer object of 3 artists>"
      ]
     },
     "execution_count": 31,
     "metadata": {},
     "output_type": "execute_result"
    },
    {
     "data": {
      "image/png": "[encoded data removed]",
      "text/plain": [
       "<Figure size 640x480 with 1 Axes>"
      ]
     },
     "metadata": {},
     "output_type": "display_data"
    }
   ],
   "source": [
    "plt.bar([1,2,3], [293,29,36])"
   ]
  },
  {
   "cell_type": "markdown",
   "id": "6709ffa8-c04c-4a2e-8d6c-ec1045021ad8",
   "metadata": {},
   "source": [
    "Догадки подтвердились, наибольшее количество гильдий не участвуют в клановых войнах и растут исключиьельно за счет миссий"
   ]
  },
  {
   "cell_type": "markdown",
   "id": "4fed5c2d-69c8-4139-98ef-f1abf3d1ae50",
   "metadata": {},
   "source": [
    "Давайте посчитаем, а сколько пользователей вообще донатили в игру."
   ]
  },
  {
   "cell_type": "code",
   "execution_count": 32,
   "id": "c16dc828-5230-420b-9b0d-8428b88683c4",
   "metadata": {},
   "outputs": [
    {
     "name": "stdout",
     "output_type": "stream",
     "text": [
      "54.46886380271559\n"
     ]
    },
    {
     "data": {
      "image/png": "[encoded data removed]",
      "text/plain": [
       "<Figure size 640x480 with 1 Axes>"
      ]
     },
     "metadata": {},
     "output_type": "display_data"
    }
   ],
   "source": [
    "a = (merged_df1_df2.groupby('revenue').size().to_numpy())[:]\n",
    "b = (merged_df1_df2.groupby('revenue').size().index.to_numpy())[:]\n",
    "plt.bar(b, a)\n",
    "print(merged_df1_df2['revenue'].mean())"
   ]
  },
  {
   "cell_type": "code",
   "execution_count": 33,
   "id": "17af45da-9dc1-4a5a-a724-429496158c68",
   "metadata": {},
   "outputs": [
    {
     "data": {
      "text/plain": [
       "([1, 2, 4, 5, 0], [170, 12, 2, 0, 0])"
      ]
     },
     "execution_count": 33,
     "metadata": {},
     "output_type": "execute_result"
    }
   ],
   "source": [
    "simply([1,2,3,4,8,9,10,11],[100,50,20,10,1,1,1,1],3)"
   ]
  },
  {
   "cell_type": "code",
   "execution_count": 34,
   "id": "2ad0955f-7b10-4353-b516-f8437d4a97aa",
   "metadata": {},
   "outputs": [
    {
     "data": {
      "text/plain": [
       "<BarContainer object of 18 artists>"
      ]
     },
     "execution_count": 34,
     "metadata": {},
     "output_type": "execute_result"
    },
    {
     "data": {
      "image/png": "[encoded data removed]",
      "text/plain": [
       "<Figure size 640x480 with 1 Axes>"
      ]
     },
     "metadata": {},
     "output_type": "display_data"
    }
   ],
   "source": [
    "newb = []\n",
    "for num in b:\n",
    "    newb.append(int(num))\n",
    "aa= simply(newb,a,30)[1]\n",
    "bb = simply(newb,a,30)[0]\n",
    "plt.bar(bb, aa,width=10)"
   ]
  },
  {
   "cell_type": "code",
   "execution_count": 35,
   "id": "9d4ea582-f4e1-4b6b-a3c8-de61bb82f009",
   "metadata": {},
   "outputs": [
    {
     "data": {
      "text/plain": [
       "([0,\n",
       "  15,\n",
       "  30,\n",
       "  45,\n",
       "  60,\n",
       "  75,\n",
       "  90,\n",
       "  105,\n",
       "  120,\n",
       "  135,\n",
       "  150,\n",
       "  165,\n",
       "  180,\n",
       "  195,\n",
       "  210,\n",
       "  225,\n",
       "  240,\n",
       "  0],\n",
       " [60, 34, 34, 34, 30, 31, 32, 31, 30, 12, 0, 0, 0, 0, 0, 0, 0, 0])"
      ]
     },
     "execution_count": 35,
     "metadata": {},
     "output_type": "execute_result"
    }
   ],
   "source": [
    "simply(newb,a,30)"
   ]
  },
  {
   "cell_type": "markdown",
   "id": "9c3b1f90-9f6e-4bc7-9fc8-8bf79912db34",
   "metadata": {},
   "source": [
    "Вывод следующий: игра действительно стоит свеч, люди действительно донатят."
   ]
  },
  {
   "cell_type": "code",
   "execution_count": 36,
   "id": "d13724a5-ed21-4e75-ad76-54f4fa9f2643",
   "metadata": {},
   "outputs": [
    {
     "data": {
      "text/plain": [
       "array([0., 1., 2., 3., 5.])"
      ]
     },
     "execution_count": 36,
     "metadata": {},
     "output_type": "execute_result"
    }
   ],
   "source": [
    "merged_df1_df2['n_seasons'].unique()"
   ]
  },
  {
   "cell_type": "code",
   "execution_count": 41,
   "id": "5c5f3b8c-8e9b-4408-93a3-3cb3ece87aa4",
   "metadata": {},
   "outputs": [
    {
     "data": {
      "text/plain": [
       "52.830350877594476"
      ]
     },
     "execution_count": 41,
     "metadata": {},
     "output_type": "execute_result"
    }
   ],
   "source": [
    "merged_df1_df2[merged_df1_df2['n_seasons'] < 1].iloc[:, 13:14].squeeze().mean()"
   ]
  },
  {
   "cell_type": "code",
   "execution_count": 45,
   "id": "8ba10dba-229d-40f2-98a4-358b114f0f4c",
   "metadata": {},
   "outputs": [
    {
     "data": {
      "text/plain": [
       "15.18"
      ]
     },
     "execution_count": 45,
     "metadata": {},
     "output_type": "execute_result"
    }
   ],
   "source": [
    "merged_df1_df2[merged_df1_df2['n_seasons'] == 5].iloc[:, 13:14].squeeze().mean()"
   ]
  },
  {
   "cell_type": "code",
   "execution_count": 78,
   "id": "66131559-ed06-4ec8-a424-6e145bf984be",
   "metadata": {},
   "outputs": [
    {
     "data": {
      "image/png": "[encoded data removed]",
      "text/plain": [
       "<Figure size 640x480 with 1 Axes>"
      ]
     },
     "metadata": {},
     "output_type": "display_data"
    }
   ],
   "source": [
    "a = (merged_df1_df2[merged_df1_df2['revenue'] < 100].iloc[:, 13:14].to_numpy())[:]\n",
    "b= (merged_df1_df2[merged_df1_df2['revenue'] < 100].iloc[:, 5:6].to_numpy())[:]\n",
    "# Создаем точечный график\n",
    "plt.scatter(a, b)\n",
    "\n",
    "# Добавляем заголовок и метки осей\n",
    "plt.title('Точечный график')\n",
    "plt.xlabel('Абсцисса')\n",
    "plt.ylabel('Ордината')\n",
    "\n",
    "# Отображаем график\n",
    "plt.show()"
   ]
  },
  {
   "cell_type": "markdown",
   "id": "270785a0-691f-4c1a-8e9e-8b7a74e70db7",
   "metadata": {},
   "source": [
    "Как и ожиддалось, серьезной зависимости между количеством вложенных денег и между участием в гильдкеских активностях (таланты и клановые войны) нет. Безусловно, вкладывая деньги люди чуть более трепетно относятся к игре, однако это далеко не решающий фактор. Если какие-то механики игры плохи, то деньги их не сделают лучше, тем более, что люди вкладываются в игру ради других вещей\n"
   ]
  },
  {
   "cell_type": "code",
   "execution_count": 77,
   "id": "beea117b-e245-43c8-9042-244074071151",
   "metadata": {},
   "outputs": [
    {
     "data": {
      "image/png": "[encoded data removed]",
      "text/plain": [
       "<Figure size 640x480 with 1 Axes>"
      ]
     },
     "metadata": {},
     "output_type": "display_data"
    }
   ],
   "source": [
    "a = (merged_df1_df2[merged_df1_df2['revenue'] < 300].iloc[:, 13:14].to_numpy())[:]\n",
    "b= (merged_df1_df2[merged_df1_df2['revenue'] < 300].iloc[:, 7:8].to_numpy())[:]\n",
    "# Создаем точечный график\n",
    "plt.scatter(a, b)\n",
    "\n",
    "# Добавляем заголовок и метки осей\n",
    "plt.title('Точечный график')\n",
    "plt.xlabel('Абсцисса')\n",
    "plt.ylabel('Ордината')\n",
    "\n",
    "# Отображаем график\n",
    "plt.show()"
   ]
  },
  {
   "cell_type": "code",
   "execution_count": null,
   "id": "961c0c2d-fc27-4ac1-a360-00f2259a741d",
   "metadata": {},
   "outputs": [],
   "source": [
    "а вот между миссиями и деньгами уже имеется некоторая кореляция. При этом интересный момент. Имеется 2 стационарных положения на миссиях. Вероятнее всего примерно на отметке в 90 и 160 миссий игрокам становится или не нужно, или трудно проходить игру.\n",
    "Чтобы четко сказать, что происходит, нужно больше информации. Сейчас не понятно, хорош ли данный застой, или нет. "
   ]
  },
  {
   "cell_type": "markdown",
   "id": "1118bf1f-32f3-4aa9-899f-463b3cee835f",
   "metadata": {},
   "source": [
    "ВЫВОД\n",
    "\n",
    "По моему личному мнению было бы глупо вводить какие-то отдельные фичи для тех, кто вкладывает деньги в игру, ибо\n",
    "1) Не рабочая система клановых войн как не работала, так и не будет работать.\n",
    "2) Большая часть игроков не готова отдавать много денег за что-то внутриигровое, поэтому данная мера может подмочить нашу репутацию в глазах других игроков\n",
    "3) Гильдии действительно хорошая идея, вот только необходимо переработать механику клановых войн. Возможно войны не очень интересуют игроков, или награды не такие существенные, а возможно есть какая-то иная причина, связанная с особенностями игры.\n",
    "4) Игра находится в расцвете, существуют разные группы игроков, отличающиеся по уровню развития. Игрокам интересны миссии, да и донат на весьма хорошем уровне, поэтому, переработав командные активности в гильдиях можно будет вовлечь новых игроков, так что игру не стоит забрасывать"
   ]
  },
  {
   "cell_type": "code",
   "execution_count": null,
   "id": "7589f21a-784f-4a4d-b089-52ed46169b03",
   "metadata": {},
   "outputs": [],
   "source": []
  }
 ],
 "metadata": {
  "kernelspec": {
   "display_name": "Python 3 (ipykernel)",
   "language": "python",
   "name": "python3"
  },
  "language_info": {
   "codemirror_mode": {
    "name": "ipython",
    "version": 3
   },
   "file_extension": ".py",
   "mimetype": "text/x-python",
   "name": "python",
   "nbconvert_exporter": "python",
   "pygments_lexer": "ipython3",
   "version": "3.12.0"
  }
 },
 "nbformat": 4,
 "nbformat_minor": 5
}
